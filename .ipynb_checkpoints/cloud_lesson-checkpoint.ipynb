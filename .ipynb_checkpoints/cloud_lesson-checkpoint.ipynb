{
 "cells": [
  {
   "cell_type": "markdown",
   "id": "8c0df9c8-6056-4f1d-b909-b4abc40193fa",
   "metadata": {},
   "source": [
    "# Science on the Cloud"
   ]
  },
  {
   "cell_type": "markdown",
   "id": "84788b6e-79c9-4961-b7ce-e11b1d05d59b",
   "metadata": {},
   "source": [
    ":::{admonition} Lesson Content :class: note, dropdown\n",
    "\n",
    "- a note on nodes as they login (connect the word environment to image)\n",
    "- we use abstractions in programming to represent real things (You'll see lots of abstractions soon when you look at data structures)\n",
    "- the cloud is an abstraction of a data center\n",
    "- refresh on the benefits of the cloud (place to share; ability to scale up / extensible)\n",
    "- tour the various features of cryocloud -- file explorer, virtual desktop, syncthing, shared vs. private folders\n",
    "- make a qgis plot with data from the shared drive (WAS)?\n",
    "- maybe include 10 min on terminal and moving directories\n",
    "- Upload button; syncthing (maybe just demo then send instructions)\n",
    "- Demo earthaccess downloads, but actually teach it in another session\n",
    "- Downloading data with Earthdata search (note DOI and short name)\n",
    "- Practice: sharing a datafile with their group using the shared folder\n",
    "- Practice: copying a file from the shared folder to their private directory\n",
    "- Set up .netrc with earthaccess (this one or the next one)\n",
    ":::"
   ]
  },
  {
   "cell_type": "markdown",
   "id": "704ad45e-82e5-4110-8a40-6bec5497acfa",
   "metadata": {},
   "source": [
    "## Context\n",
    "\n",
    "Today we are going to be exploring the cloud platform and digging into some of the details of what it means to do science on the cloud. We aren't actually going to write much code today, but we are going to look at a few pieces of how computers work and explore some of the ways that the cloud facilitates collaboration. It's going to be a bit of a hodge-podge of skills, but together they give you some of the computer science building blocks to navigate the cloud interface."
   ]
  },
  {
   "cell_type": "markdown",
   "id": "974d45d7-1ce6-40de-8b7e-e39e600505cf",
   "metadata": {},
   "source": [
    "## Tour of the interface\n",
    "\n",
    "- tools on left side, file explorer, right side tools"
   ]
  },
  {
   "cell_type": "markdown",
   "id": "421ad11d-2945-4a60-a95a-50a02a3e9a6f",
   "metadata": {},
   "source": [
    "## Private and Shared Files"
   ]
  },
  {
   "cell_type": "code",
   "execution_count": null,
   "id": "aead439a-dca2-4997-bea6-c6b7ac198d17",
   "metadata": {},
   "outputs": [],
   "source": []
  },
  {
   "cell_type": "code",
   "execution_count": null,
   "id": "1bda77d9-6311-4270-8e71-5d2476250af0",
   "metadata": {},
   "outputs": [],
   "source": []
  },
  {
   "cell_type": "markdown",
   "id": "e7549aa0-8bda-4b9b-8e89-aff4f738a900",
   "metadata": {},
   "source": [
    "Checkin: within your table pick one person to make a folder in the shared NASA-SARP folder. Have each person in the group create a text file in that folder. Delete the file when you are done (but keep the folder)"
   ]
  },
  {
   "cell_type": "code",
   "execution_count": null,
   "id": "9a4d3ad4-ad96-490e-b8c9-af33ef6a79f9",
   "metadata": {},
   "outputs": [],
   "source": []
  },
  {
   "cell_type": "code",
   "execution_count": null,
   "id": "76d51c90-c73e-42da-990d-47c86d7c9e65",
   "metadata": {},
   "outputs": [],
   "source": []
  },
  {
   "cell_type": "markdown",
   "id": "d267a15a-38b9-4365-8bd7-8dcbd68891d0",
   "metadata": {},
   "source": [
    "## Terminal\n",
    "\n",
    "Working in the command line is like working on the inside of your computer. There is no visual screen, or graphical user interface (GUI), for you to use, but you are accessing the same files and programs as you can access in your File Explorer.\n",
    "\n",
    "In general, command line commands can have multiple parts:\n",
    "1. Command_name (Ex. `cd`, `ncdump`)\n",
    "2. Flags (Ex. `-r`, `-h`, `--help`)\n",
    "3. Arguments (Ex. `file1.txt`, `outputfile.nc`)\n",
    "\n",
    " \n",
    "### Navigating your File System\n",
    "* `cd` - “change directory” go into a folder or directory\n",
    "* `cd ..` goes back up a level in the folder hierarchy\n",
    "* `ls` - shows the contents of the current directory\n",
    "* `pwd` - shows the absolute path of the current directory\n",
    "\n"
   ]
  },
  {
   "cell_type": "markdown",
   "id": "325d111a-4606-4e32-8795-fea1f4d1bf32",
   "metadata": {},
   "source": [
    "Doing these commands is all fine and good, but it's easy to get lost inside of a computer if you don't have a general idea of how it is setup. Let's start building one of those by drawing a diagram for movement between folders and files."
   ]
  },
  {
   "cell_type": "code",
   "execution_count": null,
   "id": "2311058d-503d-49a9-b2ce-f35fad075218",
   "metadata": {},
   "outputs": [],
   "source": []
  },
  {
   "cell_type": "markdown",
   "id": "72bc111b-d1d1-4a24-81b2-0df541916f9c",
   "metadata": {},
   "source": [
    "Checkin: starting from `/shared-public/SARP` draw a tree diagram representing the folders / files present."
   ]
  },
  {
   "cell_type": "code",
   "execution_count": null,
   "id": "5dc99958-b6aa-45f0-b3f6-2798bee0920a",
   "metadata": {},
   "outputs": [],
   "source": []
  },
  {
   "cell_type": "markdown",
   "id": "986a50b2-525f-4997-8d4b-522248cd6cee",
   "metadata": {},
   "source": [
    "You likely made a diagram that has a similar shape to this:\n",
    "\n",
    "- tree diagram\n",
    "\n",
    "Notice that each of the folders or files can be traced back to the single starting point. If you draw a diagram like this for your whole file systme this starting point is called the **root** folder and this type of organization in computer science is called a **tree** structure."
   ]
  },
  {
   "cell_type": "markdown",
   "id": "acb90f07-0eb8-488f-8ba8-e4571deb6fb9",
   "metadata": {},
   "source": [
    "Vocab: tree structure; root folder"
   ]
  },
  {
   "cell_type": "markdown",
   "id": "a92d4f77-ece4-4b08-87fc-6e88e00f1564",
   "metadata": {},
   "source": [
    "Why go into all this detailed discussion? It's easy to get mentally lost in terminal, but it helps to remember that we are always scooting around on this tree. When we are in terminal we are always _somewhere_ on this tree, and every time we change directories we are just moving to another place on the tree. That's how the inside of a computer is organized! 🌳💻"
   ]
  },
  {
   "cell_type": "markdown",
   "id": "fae02cb4-778b-4c26-bc8e-4ad03bf22c1e",
   "metadata": {},
   "source": [
    "Note about how Cryocloud works: When we start up a terminal from Cryocloud, the terminal is always going to initialize itself to whatever folder you have open in your file explorer window. "
   ]
  },
  {
   "cell_type": "markdown",
   "id": "c6e6cc7f-6650-4825-8e46-00d373b8b302",
   "metadata": {},
   "source": [
    "Checkin: create a new folder with a name of your choice (ex. sarp lessons). `wget` a file into the folder.\n",
    "\n",
    "- discussion -- can someone explain how they did it? Did anyone else do that differently?"
   ]
  },
  {
   "cell_type": "code",
   "execution_count": null,
   "id": "13581405-c789-4c9f-8181-23340fe6081b",
   "metadata": {},
   "outputs": [],
   "source": []
  },
  {
   "cell_type": "code",
   "execution_count": null,
   "id": "4a2a608b-b1da-49d9-97e2-6e098e3e9aef",
   "metadata": {},
   "outputs": [],
   "source": []
  },
  {
   "cell_type": "code",
   "execution_count": null,
   "id": "b2dbc070-736b-469f-85b7-6a1fe8ee1167",
   "metadata": {},
   "outputs": [],
   "source": []
  },
  {
   "cell_type": "markdown",
   "id": "393e7bca-a736-4bc8-9cf1-420732941923",
   "metadata": {},
   "source": [
    "### Moving and Copying Files\n",
    "* `mv file1.txt file2.txt` - `mv` -  moves a file from one location to another. Also used for renaming files\n",
    "* `rm file1.txt` - `rm` - permanently deletes a file.\n",
    "* - asterisk is a wildcard so it can be used to remove all the files that match a certain pattern\n",
    "\tEx. rm -Confirm *.txt - removes all text files in a directory\n",
    "\tEx. rm -Confirm m704_2022*.nc - removes all files that start with m704_2022 and end with .nc\n",
    "* `cp file1.txt file1_copy.txt` - `cp` - copy a file to a new location"
   ]
  },
  {
   "cell_type": "code",
   "execution_count": null,
   "id": "5ad5cb42-a110-4f80-9f1c-0b3f8a42f5af",
   "metadata": {},
   "outputs": [],
   "source": []
  },
  {
   "cell_type": "markdown",
   "id": "9b76c512-d892-46bd-a1c5-252af67b86f6",
   "metadata": {},
   "source": [
    "## Virtual Desktop\n",
    "\n",
    "(short section)\n",
    "- point out that we can manipulate files that are in the shared spaces! (QGIS demo)"
   ]
  },
  {
   "cell_type": "code",
   "execution_count": null,
   "id": "58cb3782-13a7-4d36-82e6-618fd32213ad",
   "metadata": {},
   "outputs": [],
   "source": []
  },
  {
   "cell_type": "code",
   "execution_count": null,
   "id": "1be8b256-7ca3-437d-8396-a7e7ae0f7115",
   "metadata": {},
   "outputs": [],
   "source": []
  },
  {
   "cell_type": "code",
   "execution_count": null,
   "id": "264d940b-2b38-4d94-a4d1-08c64682081c",
   "metadata": {},
   "outputs": [],
   "source": []
  },
  {
   "cell_type": "markdown",
   "id": "212ea44f-5024-4e61-a46c-2969ac545a35",
   "metadata": {},
   "source": [
    "## Uploading and Downloading Files\n",
    "\n",
    "- demo how to upload a data file with the clickable interface"
   ]
  },
  {
   "cell_type": "code",
   "execution_count": null,
   "id": "528ee7a5-3473-4af2-b8d6-317fe3b50147",
   "metadata": {},
   "outputs": [],
   "source": []
  },
  {
   "cell_type": "code",
   "execution_count": null,
   "id": "340b9239-3164-4afd-918c-36b0822e74b7",
   "metadata": {},
   "outputs": [],
   "source": []
  },
  {
   "cell_type": "code",
   "execution_count": null,
   "id": "750ea37f-b582-4888-a567-6845a32073bf",
   "metadata": {},
   "outputs": [],
   "source": []
  },
  {
   "cell_type": "markdown",
   "id": "5985edd6-d8fe-473f-8e71-197d5bbc277d",
   "metadata": {},
   "source": [
    "Checkin: Go to earth data search and find one granule of a data product. You can choose any data product (maybe one you're considering using?!). Download it and upload to your home directory.\n",
    "\n",
    "Make it harder: search for a particular date/time? OR search with earthdata search?"
   ]
  },
  {
   "cell_type": "code",
   "execution_count": null,
   "id": "552dc3cd-b0f5-4b33-abf0-7e7c22f9ad0e",
   "metadata": {},
   "outputs": [],
   "source": []
  },
  {
   "cell_type": "code",
   "execution_count": null,
   "id": "a5d69994-bddc-4713-863a-e82ce14ce263",
   "metadata": {},
   "outputs": [],
   "source": []
  },
  {
   "cell_type": "code",
   "execution_count": null,
   "id": "79336876-cad5-4562-959f-3be0e3543f4f",
   "metadata": {},
   "outputs": [],
   "source": []
  },
  {
   "cell_type": "code",
   "execution_count": null,
   "id": "529565b1-c43c-4dcf-bb8a-007ff5e63d45",
   "metadata": {},
   "outputs": [],
   "source": []
  }
 ],
 "metadata": {
  "kernelspec": {
   "display_name": "Python 3 (ipykernel)",
   "language": "python",
   "name": "python3"
  },
  "language_info": {
   "codemirror_mode": {
    "name": "ipython",
    "version": 3
   },
   "file_extension": ".py",
   "mimetype": "text/x-python",
   "name": "python",
   "nbconvert_exporter": "python",
   "pygments_lexer": "ipython3",
   "version": "3.11.9"
  }
 },
 "nbformat": 4,
 "nbformat_minor": 5
}
